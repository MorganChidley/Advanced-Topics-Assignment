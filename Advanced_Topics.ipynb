{
  "nbformat": 4,
  "nbformat_minor": 0,
  "metadata": {
    "colab": {
      "provenance": [],
      "mount_file_id": "1N60iaB02fGlGbL-Y54hHdS-WtHq5_0ZC",
      "authorship_tag": "ABX9TyPHBKe0JPdaP63k70VPe8Yr",
      "include_colab_link": true
    },
    "kernelspec": {
      "name": "python3",
      "display_name": "Python 3"
    },
    "language_info": {
      "name": "python"
    }
  },
  "cells": [
    {
      "cell_type": "markdown",
      "metadata": {
        "id": "view-in-github",
        "colab_type": "text"
      },
      "source": [
        "<a href=\"https://colab.research.google.com/github/MorganChidley/Advanced-Topics-Assignment/blob/main/Advanced_Topics.ipynb\" target=\"_parent\"><img src=\"https://colab.research.google.com/assets/colab-badge.svg\" alt=\"Open In Colab\"/></a>"
      ]
    },
    {
      "cell_type": "markdown",
      "source": [
        "**Importing Dataset and Displaying first few rows**"
      ],
      "metadata": {
        "id": "KkXj-vSWBywx"
      }
    },
    {
      "cell_type": "code",
      "execution_count": null,
      "metadata": {
        "id": "Sjkz3bvt-6cy"
      },
      "outputs": [],
      "source": [
        "# Importing nescesary libaries\n",
        "import pandas as pd\n",
        "import numpy as np\n",
        "import matplotlib.pyplot as plt\n",
        "from sklearn.linear_model import LinearRegression\n",
        "\n",
        "# Loading dataset into a Pandas DataFrame\n",
        "file_path = '/content/drive/MyDrive/austin_weather.csv'\n",
        "df = pd.read_csv(file_path)\n",
        "\n",
        "# Display the first few rows to understand the structure\n",
        "df.head()"
      ]
    },
    {
      "cell_type": "markdown",
      "source": [
        "**Filtering Data and Addinng additional columns**"
      ],
      "metadata": {
        "id": "epEb09VVObC0"
      }
    },
    {
      "cell_type": "code",
      "source": [
        "# Using required columns only, \"Date and TempAvgF\"\n",
        "df = df[['Date', 'TempAvgF']]\n",
        "\n",
        "# Converting the Date column to datetime format\n",
        "df['Date'] = pd.to_datetime(df['Date'])\n",
        "\n",
        "# Extract the Year and Month Values\n",
        "df['Year'] = df['Date'].dt.year\n",
        "df['Month'] = df['Date'].dt.month\n",
        "\n",
        "# Extract Day of the Year\n",
        "df['DayOfYear'] = df['Date'].dt.dayofyear\n",
        "\n",
        "# Filter data for the first year in the dataset (2014 because there were only 11 days of data for 2013)\n",
        "df_first_year = df[df['Year'] == 2014].copy()\n",
        "\n",
        "# Adding a Day Of Year Column\n",
        "df_first_year['DayOfYear'] = df_first_year['Date'].dt.dayofyear\n",
        "\n",
        "# Calculate 25-Day Mocing Average\n",
        "df_first_year['TempAvgF_MA25'] = df_first_year['TempAvgF'].rolling(window=25, min_periods=1).mean()\n",
        "\n",
        "\n",
        "# Display the first few rows of the processed data\n",
        "df_first_year.head()\n"
      ],
      "metadata": {
        "id": "TsJ1s2zwIFBT"
      },
      "execution_count": null,
      "outputs": []
    },
    {
      "cell_type": "markdown",
      "source": [
        "**Checking for Missing values and rows**"
      ],
      "metadata": {
        "id": "S0_Z3BZFSb9y"
      }
    },
    {
      "cell_type": "code",
      "source": [
        "# Checking for missing rows\n",
        "missing_rows = df[df.isna().any(axis=1)]\n",
        "print(missing_rows)\n",
        "\n",
        "# Checking for missing values\n",
        "df.isnull().sum()"
      ],
      "metadata": {
        "id": "eT7KhJzADrQe"
      },
      "execution_count": null,
      "outputs": []
    },
    {
      "cell_type": "markdown",
      "source": [
        "**Checking for Duplicates**"
      ],
      "metadata": {
        "id": "sp8-NtDZVYrT"
      }
    },
    {
      "cell_type": "code",
      "source": [
        "# Removinf duplicates\n",
        "df_cleaned = df.drop_duplicates(subset=['Date', 'TempAvgF'], keep='first')\n",
        "\n",
        "# Check the shape of the DataFrame before and after removing duplicates\n",
        "print(\"Original shape:\", df.shape)\n",
        "print(\"Shape after removing duplicates:\", df_cleaned.shape)"
      ],
      "metadata": {
        "id": "sR6ZCiLlVAeD"
      },
      "execution_count": null,
      "outputs": []
    },
    {
      "cell_type": "markdown",
      "source": [
        "**Calculating Outliers**"
      ],
      "metadata": {
        "id": "UF5g2grZSiCg"
      }
    },
    {
      "cell_type": "code",
      "source": [
        "# Calculate quantiles\n",
        "Q1 = df['TempAvgF'].quantile(0.25)\n",
        "Q3 = df['TempAvgF'].quantile(0.75)\n",
        "IQR = Q3 - Q1\n",
        "\n",
        "# Define upper and lower bounds\n",
        "lower_bound = Q1 - 1.5 * IQR\n",
        "upper_bound = Q3 + 1.5 * IQR\n",
        "\n",
        "# Identify outliers\n",
        "outliers = df[(df['TempAvgF'] < lower_bound) | (df['TempAvgF'] > upper_bound)]\n",
        "\n",
        "# Print the outliers\n",
        "print(\"Outliers:\")\n",
        "print(outliers)"
      ],
      "metadata": {
        "id": "BVCKSvUgN-HZ"
      },
      "execution_count": null,
      "outputs": []
    },
    {
      "cell_type": "markdown",
      "source": [
        "**Plotting the Raw Data and 25-Day Moving Average**"
      ],
      "metadata": {
        "id": "548NrCjfUAxm"
      }
    },
    {
      "cell_type": "code",
      "source": [
        "# Plotting the Graph with Raw Data and 25-Dat Moving average\n",
        "plt.figure(figsize=(12, 6))\n",
        "plt.plot(df_first_year['DayOfYear'], df_first_year['TempAvgF'], label='Raw Data', alpha=0.5)\n",
        "plt.plot(df_first_year['DayOfYear'], df_first_year['TempAvgF_MA25'], label='25-Day Moving Average', color='red')\n",
        "plt.xlabel('Day of Year')\n",
        "plt.ylabel('Average Temperature (F)')\n",
        "plt.title('Average Temperature with 25-Day Moving Average')\n",
        "plt.legend()\n",
        "\n",
        "\n",
        "\n",
        "plt.grid(True)\n",
        "plt.show()"
      ],
      "metadata": {
        "id": "zLUMBJqCOg8r"
      },
      "execution_count": null,
      "outputs": []
    },
    {
      "cell_type": "markdown",
      "source": [
        "**Plotting the Trendline using LinearRegression**"
      ],
      "metadata": {
        "id": "fg3zbce2_wNf"
      }
    },
    {
      "cell_type": "code",
      "source": [
        "# Fit a Linear regression model\n",
        "X = df_first_year[['DayOfYear']]\n",
        "y = df_first_year['TempAvgF']\n",
        "\n",
        "model = LinearRegression()\n",
        "model.fit(X, y)\n",
        "\n",
        "# Print the models parameters\n",
        "print(f\"Intercept: {model.intercept_}\")\n",
        "print(f\"Coefficient: {model.coef_[0]}\")\n",
        "\n",
        "# Calculating trendline values\n",
        "first_day = 1\n",
        "middle_day = 183\n",
        "last_day = 365\n",
        "\n",
        "trendline_values = model.predict(np.array([[first_day], [middle_day], [last_day]]))\n",
        "\n",
        "# Plotting the trendline on the graph\n",
        "plt.figure(figsize=(12, 6))\n",
        "plt.plot(df_first_year['DayOfYear'], df_first_year['TempAvgF'], label='Raw Data')\n",
        "plt.plot(df_first_year['DayOfYear'], df_first_year['TempAvgF_MA25'], label='25-Day Moving Average', color='red')\n",
        "plt.plot([first_day, middle_day, last_day], trendline_values, label='Trendline', color='green', linestyle='--')\n",
        "plt.xlabel('Day of Year')\n",
        "plt.ylabel('Average Temperature (F)')\n",
        "plt.title('Average Temperature with Trendline')\n",
        "plt.legend()\n",
        "plt.grid(True)\n",
        "plt.show()"
      ],
      "metadata": {
        "id": "wpKso4AHUTR9"
      },
      "execution_count": null,
      "outputs": []
    }
  ]
}